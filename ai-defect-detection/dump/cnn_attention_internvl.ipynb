{
 "cells": [
  {
   "cell_type": "code",
   "execution_count": null,
   "metadata": {
    "executionInfo": {
     "elapsed": 16161,
     "status": "ok",
     "timestamp": 1754216644433,
     "user": {
      "displayName": "Mohammed Salah",
      "userId": "03653887815283402319"
     },
     "user_tz": -240
    },
    "id": "03A6HUOhqhU4"
   },
   "outputs": [],
   "source": [
    "from transformers import AutoProcessor, AutoModelForCausalLM\n",
    "from PIL import Image\n",
    "import torch"
   ]
  },
  {
   "cell_type": "code",
   "execution_count": null,
   "metadata": {
    "executionInfo": {
     "elapsed": 659,
     "status": "ok",
     "timestamp": 1754216645099,
     "user": {
      "displayName": "Mohammed Salah",
      "userId": "03653887815283402319"
     },
     "user_tz": -240
    },
    "id": "NXAtP-0otXvb"
   },
   "outputs": [],
   "source": [
    "import numpy as np\n",
    "import cv2\n",
    "import mat73\n",
    "import numpy as np\n",
    "import cv2\n",
    "import os\n",
    "import scipy.io\n",
    "import torch\n",
    "import torch.nn as nn\n",
    "import torch.optim as optim\n",
    "from torch.utils.data import DataLoader, TensorDataset\n",
    "import matplotlib.pyplot as plt\n",
    "from sklearn.manifold import TSNE\n",
    "from matplotlib.widgets import RectangleSelector\n",
    "import math"
   ]
  },
  {
   "cell_type": "code",
   "execution_count": null,
   "metadata": {
    "colab": {
     "base_uri": "https://localhost:8080/"
    },
    "executionInfo": {
     "elapsed": 43,
     "status": "ok",
     "timestamp": 1754217509617,
     "user": {
      "displayName": "Mohammed Salah",
      "userId": "03653887815283402319"
     },
     "user_tz": -240
    },
    "id": "lKYY5EXCs5hf",
    "outputId": "f2ed195d-7a8f-4feb-b07f-ca5b87c1264a"
   },
   "outputs": [],
   "source": [
    "np.random.seed(42)\n",
    "\n",
    "folder_dir = 'data_np/'\n",
    "\n",
    "mat_files = sorted([file for file in os.listdir(folder_dir) if file.endswith('.npy')])\n",
    "idx = 5\n",
    "\n",
    "print(mat_files[idx])"
   ]
  },
  {
   "cell_type": "code",
   "execution_count": null,
   "metadata": {
    "executionInfo": {
     "elapsed": 52626,
     "status": "ok",
     "timestamp": 1754217570489,
     "user": {
      "displayName": "Mohammed Salah",
      "userId": "03653887815283402319"
     },
     "user_tz": -240
    },
    "id": "9_-n0HgysnbB"
   },
   "outputs": [],
   "source": [
    "image_sequence = np.load(folder_dir + mat_files[idx])\n",
    "image_sequence = image_sequence[135:, :, :]\n",
    "roi_coords = []"
   ]
  },
  {
   "cell_type": "code",
   "execution_count": null,
   "metadata": {
    "colab": {
     "base_uri": "https://localhost:8080/",
     "height": 504
    },
    "executionInfo": {
     "elapsed": 381,
     "status": "ok",
     "timestamp": 1754217570908,
     "user": {
      "displayName": "Mohammed Salah",
      "userId": "03653887815283402319"
     },
     "user_tz": -240
    },
    "id": "b6W2KeAKHnfo",
    "outputId": "756ed9a0-dd94-415c-fa57-8fe1f9ee3708"
   },
   "outputs": [],
   "source": [
    "# y1, y2, x1, x2 = 103, 303, 173, 428\n",
    "# image_sequence = image_sequence[y1:y2, x1:x2, :]\n",
    "\n",
    "image_sequence = image_sequence[:, 100:495, :]\n",
    "\n",
    "h, w, t = image_sequence.shape\n",
    "middle_frame = image_sequence[:, :, t // 2]\n",
    "plt.figure(figsize=(6, 6))\n",
    "plt.imshow(middle_frame, cmap='jet')\n",
    "plt.title('Middle Frame of ROI')\n",
    "plt.axis('off')\n",
    "plt.colorbar()\n",
    "plt.show()"
   ]
  },
  {
   "cell_type": "code",
   "execution_count": null,
   "metadata": {
    "colab": {
     "base_uri": "https://localhost:8080/",
     "height": 324
    },
    "executionInfo": {
     "elapsed": 8896,
     "status": "ok",
     "timestamp": 1754217579829,
     "user": {
      "displayName": "Mohammed Salah",
      "userId": "03653887815283402319"
     },
     "user_tz": -240
    },
    "id": "qyOC_QjVCTUs",
    "outputId": "0ab4c977-c669-4b65-bf02-6ba54d461c49"
   },
   "outputs": [],
   "source": [
    "h, w, sequence_size = image_sequence.shape\n",
    "plt.figure(figsize=(6, 3))\n",
    "plt.plot(image_sequence.reshape(h * w, sequence_size)[5000,173:300])\n",
    "plt.grid(True)\n",
    "plt.tight_layout()\n",
    "plt.show()\n",
    "\n",
    "diff = np.diff(image_sequence.reshape(h * w, sequence_size)[5000,:1000])\n",
    "t_pulse = np.argmax(diff)\n",
    "print(t_pulse)\n",
    "t_pulse = 88"
   ]
  },
  {
   "cell_type": "code",
   "execution_count": null,
   "metadata": {
    "colab": {
     "base_uri": "https://localhost:8080/",
     "height": 307
    },
    "executionInfo": {
     "elapsed": 8601,
     "status": "ok",
     "timestamp": 1754217588432,
     "user": {
      "displayName": "Mohammed Salah",
      "userId": "03653887815283402319"
     },
     "user_tz": -240
    },
    "id": "39ZH-o-jCVe9",
    "outputId": "505d3ddd-2ec7-4c19-a7ee-958226716731"
   },
   "outputs": [],
   "source": [
    "from scipy.interpolate import interp1d\n",
    "import numpy as np\n",
    "import matplotlib.pyplot as plt\n",
    "\n",
    "h, w, sequence_size = image_sequence.shape\n",
    "imageMatrix = image_sequence.reshape(h * w, sequence_size)\n",
    "imageMatrix = imageMatrix[:, t_pulse:]\n",
    "\n",
    "original_len = imageMatrix.shape[1]\n",
    "target_len = 2000\n",
    "\n",
    "x_old = np.linspace(0, 1, original_len)\n",
    "x_new = np.linspace(0, 1, target_len)\n",
    "\n",
    "f = interp1d(x_old, imageMatrix, kind=\"linear\", axis=1)\n",
    "imageMatrix = f(x_new)\n",
    "\n",
    "plt.figure(figsize=(6, 3))\n",
    "plt.plot(imageMatrix[5000, :])\n",
    "plt.grid(True)\n",
    "plt.tight_layout()\n",
    "plt.show()\n",
    "\n",
    "imageMatrix = (imageMatrix - np.mean(imageMatrix, axis=1, keepdims=True))\n",
    "\n",
    "n_components = 10\n",
    "latent_dim = n_components"
   ]
  },
  {
   "cell_type": "code",
   "execution_count": null,
   "metadata": {
    "executionInfo": {
     "elapsed": 3917,
     "status": "ok",
     "timestamp": 1754217592351,
     "user": {
      "displayName": "Mohammed Salah",
      "userId": "03653887815283402319"
     },
     "user_tz": -240
    },
    "id": "4N0s9XOSCXrg"
   },
   "outputs": [],
   "source": [
    "from sklearn.decomposition import PCA\n",
    "pca = PCA(n_components=n_components)\n",
    "pca_result = pca.fit_transform(imageMatrix)"
   ]
  },
  {
   "cell_type": "code",
   "execution_count": null,
   "metadata": {
    "executionInfo": {
     "elapsed": 3,
     "status": "ok",
     "timestamp": 1754217592368,
     "user": {
      "displayName": "Mohammed Salah",
      "userId": "03653887815283402319"
     },
     "user_tz": -240
    },
    "id": "OT_O94c3CYeZ"
   },
   "outputs": [],
   "source": [
    "class PositionalEncoding(nn.Module):\n",
    "    def __init__(self, d_model, max_len=1600):\n",
    "        super(PositionalEncoding, self).__init__()\n",
    "        pe = torch.zeros(max_len, d_model)\n",
    "        position = torch.arange(0, max_len, dtype=torch.float).unsqueeze(1)\n",
    "        div_term = torch.exp(torch.arange(0, d_model, 2).float() * (-math.log(10000.0) / d_model))\n",
    "\n",
    "        pe[:, 0::2] = torch.sin(position * div_term)\n",
    "        pe[:, 1::2] = torch.cos(position * div_term)\n",
    "\n",
    "        pe = pe.unsqueeze(0)\n",
    "\n",
    "        self.register_buffer('pe', pe)\n",
    "\n",
    "    def forward(self, x):\n",
    "        x = x + self.pe[:, :x.size(1), :]\n",
    "        return x\n",
    "\n",
    "class cnn_1d_attention(nn.Module):\n",
    "    def __init__(self, latent_dim, latent_size):\n",
    "        super(cnn_1d_attention, self).__init__()\n",
    "\n",
    "        # Encoding\n",
    "        self.enc_conv1 = nn.Conv1d(1, 16, kernel_size=3, stride=1, padding='same')\n",
    "        self.enc_conv2 = nn.Conv1d(16, 32, kernel_size=3, stride=1, padding='same')\n",
    "        self.enc_conv3 = nn.Conv1d(32, 64, kernel_size=3, stride=1, padding='same')\n",
    "        self.pool = nn.MaxPool1d(kernel_size=2, stride=2, padding=0)\n",
    "\n",
    "        # Bottleneck\n",
    "        self.bottleneck = nn.Conv1d(64, 128, kernel_size=3, stride=1, padding='same')\n",
    "        self.transformer_encoder = nn.TransformerEncoder(\n",
    "            nn.TransformerEncoderLayer(\n",
    "                d_model=128, nhead=8, dim_feedforward=512, batch_first=True),\n",
    "                num_layers=2\n",
    "            )\n",
    "\n",
    "        # Decoding\n",
    "        self.upsample1 = nn.ConvTranspose1d(128, 64, kernel_size=2, stride=2)\n",
    "        self.dec_conv1 = nn.Conv1d(64, 64, kernel_size=3, stride=1, padding='same')\n",
    "\n",
    "        self.upsample2 = nn.ConvTranspose1d(64, 32, kernel_size=2, stride=2)\n",
    "        self.dec_conv2 = nn.Conv1d(32, 32, kernel_size=3, stride=1, padding='same')\n",
    "\n",
    "        self.upsample3 = nn.ConvTranspose1d(32, 16, kernel_size=2, stride=2)\n",
    "        self.dec_conv3 = nn.Conv1d(16, 16, kernel_size=3, stride=1, padding='same')\n",
    "\n",
    "        self.final_conv = nn.Conv1d(16, 1, kernel_size=1)\n",
    "\n",
    "        # Positional Encoding\n",
    "        self.positional_encoding_enc = PositionalEncoding(128)\n",
    "\n",
    "        # MLP\n",
    "        self.latent_len = latent_size\n",
    "\n",
    "        self.mlp_enc = nn.Sequential(\n",
    "            nn.Linear(128 * self.latent_len, 512),\n",
    "            nn.ReLU(),\n",
    "            nn.Linear(512, 256),\n",
    "            nn.ReLU(),\n",
    "            nn.Linear(256, latent_dim)\n",
    "        )\n",
    "\n",
    "        self.mlp_dec = nn.Sequential(\n",
    "            nn.Linear(latent_dim, 256),\n",
    "            nn.ReLU(),\n",
    "            nn.Linear(256, 512),\n",
    "            nn.ReLU(),\n",
    "            nn.Linear(512, 128 * self.latent_len)\n",
    "        )\n",
    "\n",
    "\n",
    "    def forward(self, x):\n",
    "        # Encoder\n",
    "        enc1 = F.relu(self.enc_conv1(x))\n",
    "        enc2 = F.relu(self.enc_conv2(self.pool(enc1)))\n",
    "        enc3 = F.relu(self.enc_conv3(self.pool(enc2)))\n",
    "\n",
    "        # Bottleneck\n",
    "        bottleneck = self.bottleneck(self.pool(enc3))\n",
    "\n",
    "        bottleneck_transformer = bottleneck.permute(0, 2, 1)\n",
    "        bottleneck_transformer = self.positional_encoding_enc(bottleneck_transformer)\n",
    "\n",
    "        transformer_output = self.transformer_encoder(bottleneck_transformer)\n",
    "\n",
    "        z_flat = transformer_output.reshape(transformer_output.size(0), -1)\n",
    "        z = self.mlp_enc(z_flat)\n",
    "\n",
    "        transformer_recon = self.mlp_dec(z)\n",
    "\n",
    "        z_recon = transformer_recon.view(transformer_output.size(0), transformer_output.size(1), 128)\n",
    "\n",
    "        # Decoder\n",
    "        dec1 = self.upsample1(z_recon.permute(0, 2, 1))\n",
    "        dec1 = F.relu(self.dec_conv1(dec1))\n",
    "\n",
    "        dec2 = self.upsample2(dec1)\n",
    "        dec2 = F.relu(self.dec_conv2(dec2))\n",
    "\n",
    "        dec3 = self.upsample3(dec2)\n",
    "        dec3 = F.relu(self.dec_conv3(dec3))\n",
    "\n",
    "        x_recon = self.final_conv(dec3)\n",
    "\n",
    "        return x_recon, z, transformer_output, z_recon\n",
    "\n",
    "device = torch.device(\"cuda\" if torch.cuda.is_available() else \"cpu\")"
   ]
  },
  {
   "cell_type": "code",
   "execution_count": null,
   "metadata": {
    "executionInfo": {
     "elapsed": 563,
     "status": "ok",
     "timestamp": 1754217592941,
     "user": {
      "displayName": "Mohammed Salah",
      "userId": "03653887815283402319"
     },
     "user_tz": -240
    },
    "id": "Igc0ceiVCZqK"
   },
   "outputs": [],
   "source": [
    "train_data = torch.tensor(imageMatrix, dtype=torch.float32)\n",
    "\n",
    "subset_indices = torch.randperm(train_data.shape[0])[:2500]\n",
    "subset_data = train_data[subset_indices]\n",
    "\n",
    "pca_data = pca_result[subset_indices]\n",
    "z_pca_all = torch.tensor(pca_data, dtype=torch.float32, device=device)\n",
    "\n",
    "subset_data = subset_data.unsqueeze(1).to(device)\n",
    "\n",
    "dataset = TensorDataset(subset_data, z_pca_all)\n",
    "dataloader = DataLoader(dataset, batch_size=64, shuffle=True)\n",
    "\n",
    "latent_size = imageMatrix.shape[-1] // 8\n",
    "model = cnn_1d_attention(latent_dim=latent_dim, latent_size=latent_size).to(device)\n",
    "\n",
    "optimizer = optim.Adam(model.parameters(), lr=0.0001)\n",
    "criterion = nn.MSELoss()"
   ]
  },
  {
   "cell_type": "code",
   "execution_count": null,
   "metadata": {
    "colab": {
     "base_uri": "https://localhost:8080/"
    },
    "executionInfo": {
     "elapsed": 55718,
     "status": "ok",
     "timestamp": 1754217648662,
     "user": {
      "displayName": "Mohammed Salah",
      "userId": "03653887815283402319"
     },
     "user_tz": -240
    },
    "id": "sG4WuejCCa6s",
    "outputId": "cb90759c-6644-4122-b12e-4558a031b921"
   },
   "outputs": [],
   "source": [
    "import torch.nn.functional as F\n",
    "\n",
    "num_epochs = 100\n",
    "for epoch in range(num_epochs):\n",
    "    model.train()\n",
    "    for x, z_pca in dataloader:\n",
    "        x = x.to(device)\n",
    "        z_pca = z_pca.to(device)\n",
    "\n",
    "        optimizer.zero_grad()\n",
    "        x_recon, z_ae, z, z_recon = model(x)\n",
    "\n",
    "        loss_recon = F.mse_loss(x_recon, x)\n",
    "        loss_recon_z = F.mse_loss(z_recon, z)\n",
    "\n",
    "        loss = loss_recon + 1.0 * loss_recon_z\n",
    "\n",
    "        loss.backward()\n",
    "        optimizer.step()\n",
    "\n",
    "    if epoch % 10 == 0:\n",
    "        print(f\"Epoch {epoch}: Total Loss = {loss.item():.4f} | Recon = {loss_recon.item():.4f} | Z = {loss_recon_z.item():.4f}\")\n",
    "\n",
    "print(f\"Epoch {epoch+1}: Total Loss = {loss.item():.4f} | Recon = {loss_recon.item():.4f} | Z = {loss_recon_z.item():.4f}\")"
   ]
  },
  {
   "cell_type": "code",
   "execution_count": null,
   "metadata": {
    "executionInfo": {
     "elapsed": 7384,
     "status": "ok",
     "timestamp": 1754217656114,
     "user": {
      "displayName": "Mohammed Salah",
      "userId": "03653887815283402319"
     },
     "user_tz": -240
    },
    "id": "n4E9iFcSCcU3"
   },
   "outputs": [],
   "source": [
    "batch_size = 64\n",
    "\n",
    "dataset = TensorDataset(train_data)\n",
    "loader = DataLoader(dataset, batch_size=batch_size, shuffle=False)\n",
    "\n",
    "model.eval()\n",
    "all_latents = []\n",
    "\n",
    "with torch.no_grad():\n",
    "    for batch in loader:\n",
    "        x = batch[0].to(device).unsqueeze(1)\n",
    "        x_recon, z_ae, z, z_recon = model(x)\n",
    "        all_latents.append(z_ae.cpu())\n",
    "\n",
    "principal_comp = torch.cat(all_latents, dim=0).numpy()"
   ]
  },
  {
   "cell_type": "code",
   "execution_count": null,
   "metadata": {
    "executionInfo": {
     "elapsed": 2,
     "status": "ok",
     "timestamp": 1754217656120,
     "user": {
      "displayName": "Mohammed Salah",
      "userId": "03653887815283402319"
     },
     "user_tz": -240
    },
    "id": "hmuHMUfeCdSy"
   },
   "outputs": [],
   "source": [
    "pca_array = principal_comp.reshape(h, w, n_components)\n",
    "pca_array = pca_array.transpose(2, 0, 1)"
   ]
  },
  {
   "cell_type": "code",
   "execution_count": null,
   "metadata": {
    "colab": {
     "base_uri": "https://localhost:8080/",
     "height": 1000,
     "output_embedded_package_id": "1pphVWJxbGWCTZeGhGeynynDSAKjaeJrw"
    },
    "executionInfo": {
     "elapsed": 2046,
     "status": "ok",
     "timestamp": 1754217658167,
     "user": {
      "displayName": "Mohammed Salah",
      "userId": "03653887815283402319"
     },
     "user_tz": -240
    },
    "id": "5gCa8O9XCeKW",
    "outputId": "2064eb0a-c2a8-45a3-d21d-4d8ca68d6ce2"
   },
   "outputs": [],
   "source": [
    "fig, axes = plt.subplots(2, 5, figsize=(15, 6))\n",
    "\n",
    "for i, ax in enumerate(axes.flat):\n",
    "    ax.imshow(pca_array[i], cmap='gray') \n",
    "    ax.set_title(f'PC {i+1}')\n",
    "    ax.axis('off')\n",
    "\n",
    "plt.tight_layout()\n",
    "plt.show()\n",
    "\n",
    "fig, axes = plt.subplots(2, 5, figsize=(15, 6))\n",
    "\n",
    "for i, ax in enumerate(axes.flat):\n",
    "    ax.imshow(pca_array[i], cmap='jet')\n",
    "    ax.set_title(f'PC {i+1}')\n",
    "    ax.axis('off')\n",
    "\n",
    "plt.tight_layout()\n",
    "plt.show()"
   ]
  },
  {
   "cell_type": "code",
   "execution_count": null,
   "metadata": {
    "colab": {
     "base_uri": "https://localhost:8080/",
     "height": 329
    },
    "executionInfo": {
     "elapsed": 116,
     "status": "ok",
     "timestamp": 1754217830252,
     "user": {
      "displayName": "Mohammed Salah",
      "userId": "03653887815283402319"
     },
     "user_tz": -240
    },
    "id": "xlgNqNCPCfte",
    "outputId": "41b978fa-efa2-40ef-db08-9f129c7c85cd"
   },
   "outputs": [],
   "source": [
    "import torch\n",
    "import cv2\n",
    "import numpy as np\n",
    "from sklearn.decomposition import PCA\n",
    "import matplotlib.pyplot as plt\n",
    "\n",
    "C, H, W = pca_array.shape\n",
    "flat = pca_array.reshape(C, -1).T\n",
    "\n",
    "pca = PCA(n_components=1)\n",
    "pca_result = pca.fit_transform(flat)\n",
    "comp = pca_result.reshape(H, W)\n",
    "\n",
    "# comp = np.mean(pca_array, axis=0)\n",
    "# comp = np.max(pca_array, axis=0)\n",
    "\n",
    "comp -= comp.min()\n",
    "comp /= comp.max()\n",
    "\n",
    "comp = (comp * 255).astype(np.uint8)\n",
    "\n",
    "gray_8u = cv2.normalize(comp, None, 0, 255, cv2.NORM_MINMAX).astype(np.uint8)\n",
    "\n",
    "clahe = cv2.createCLAHE(clipLimit=2.0, tileGridSize=(8,8))\n",
    "gray_8u = clahe.apply(gray_8u)\n",
    "\n",
    "bgr = cv2.applyColorMap(gray_8u, cv2.COLORMAP_JET)\n",
    "img_rgb = cv2.cvtColor(gray_8u, cv2.COLOR_GRAY2RGB)\n",
    "\n",
    "plt.figure(figsize=(3, 3))\n",
    "plt.imshow(img_rgb, cmap='gray')\n",
    "plt.axis('off')\n",
    "plt.show()"
   ]
  },
  {
   "cell_type": "code",
   "execution_count": null,
   "metadata": {},
   "outputs": [],
   "source": [
    "from PIL import Image, ImageDraw\n",
    "\n",
    "image = Image.fromarray(img_rgb).convert(\"RGB\")\n",
    "W, H = image.size\n",
    "\n",
    "save_path = \"temp_image.jpg\"\n",
    "image.save(save_path)"
   ]
  },
  {
   "cell_type": "code",
   "execution_count": 1,
   "metadata": {
    "colab": {
     "base_uri": "https://localhost:8080/",
     "height": 104,
     "referenced_widgets": [
      "892e2aa07c2a48f1b31ed4735c38eb3e",
      "58ff5a8e408942dcb0c1e430ff0f8511",
      "eabb5acc0ca94061b6e226e6bf86f732",
      "e50d0e0a63ac421e8af2e9d2719ba081",
      "95d906d46a02434b89ef8335650d4756",
      "e24fe245ef1f445f8f56b66877b82d98",
      "9ba080f34feb4277831c06b49a584889",
      "cd59d9fd91c6446fb0203f0cd0574c02",
      "f0f8b97a96ea4dfb97de8c437818f34f",
      "1a4998cf1184468abd0cb5dab9dbd10a",
      "985d9ad3a23a4d2e9f233fab6f9c9cb2"
     ]
    },
    "executionInfo": {
     "elapsed": 105047,
     "status": "ok",
     "timestamp": 1754217763256,
     "user": {
      "displayName": "Mohammed Salah",
      "userId": "03653887815283402319"
     },
     "user_tz": -240
    },
    "id": "Nv1qsUyGGXyH",
    "outputId": "ce700679-15f3-46e1-e86e-b6f7890a34f8"
   },
   "outputs": [
    {
     "name": "stderr",
     "output_type": "stream",
     "text": [
      "/home/m123/anaconda3/envs/florence/lib/python3.10/site-packages/tqdm/auto.py:21: TqdmWarning: IProgress not found. Please update jupyter and ipywidgets. See https://ipywidgets.readthedocs.io/en/stable/user_install.html\n",
      "  from .autonotebook import tqdm as notebook_tqdm\n",
      "/home/m123/anaconda3/envs/florence/lib/python3.10/site-packages/timm/models/layers/__init__.py:48: FutureWarning: Importing from timm.models.layers is deprecated, please import via timm.layers\n",
      "  warnings.warn(f\"Importing from {__name__} is deprecated, please import via timm.layers\", FutureWarning)\n",
      "InternLM2ForCausalLM has generative capabilities, as `prepare_inputs_for_generation` is explicitly overwritten. However, it doesn't directly inherit from `GenerationMixin`. From 👉v4.50👈 onwards, `PreTrainedModel` will NOT inherit from `GenerationMixin`, and this model will lose the ability to call `generate` and other related functions.\n",
      "  - If you're using `trust_remote_code=True`, you can get rid of this warning by loading the model with an auto class. See https://huggingface.co/docs/transformers/en/model_doc/auto#auto-classes\n",
      "  - If you are the owner of the model architecture code, please modify your model class such that it inherits from `GenerationMixin` (after `PreTrainedModel`, otherwise you'll get an exception).\n",
      "  - If you are not the owner of the model architecture class, please contact the model code owner to update it.\n"
     ]
    },
    {
     "name": "stdout",
     "output_type": "stream",
     "text": [
      "FlashAttention2 is not installed.\n",
      "Warning: Flash attention is not available, using eager attention instead.\n"
     ]
    },
    {
     "name": "stderr",
     "output_type": "stream",
     "text": [
      "Loading checkpoint shards: 100%|██████████| 4/4 [00:00<00:00,  7.21it/s]\n"
     ]
    }
   ],
   "source": [
    "import torch\n",
    "from PIL import Image\n",
    "from transformers import AutoTokenizer, AutoModel\n",
    "\n",
    "model_path = \"OpenGVLab/InternVL2_5-8B\"\n",
    "\n",
    "tokenizer = AutoTokenizer.from_pretrained(model_path, trust_remote_code=True)\n",
    "model = AutoModel.from_pretrained(\n",
    "    model_path,\n",
    "    torch_dtype=torch.bfloat16,\n",
    "    low_cpu_mem_usage=True,\n",
    "    trust_remote_code=True\n",
    ").eval().cuda()"
   ]
  },
  {
   "cell_type": "code",
   "execution_count": 2,
   "metadata": {},
   "outputs": [],
   "source": [
    "save_path = \"temp_image.jpg\"\n",
    "\n",
    "image = Image.open(save_path).convert(\"RGB\")"
   ]
  },
  {
   "cell_type": "code",
   "execution_count": 3,
   "metadata": {},
   "outputs": [],
   "source": [
    "import numpy as np\n",
    "import torch\n",
    "import torchvision.transforms as T\n",
    "from decord import VideoReader, cpu\n",
    "from PIL import Image\n",
    "from torchvision.transforms.functional import InterpolationMode\n",
    "from transformers import AutoModel, AutoTokenizer\n",
    "\n",
    "IMAGENET_MEAN = (0.485, 0.456, 0.406)\n",
    "IMAGENET_STD  = (0.229, 0.224, 0.225)\n",
    "\n",
    "def build_transform(input_size):\n",
    "    MEAN, STD = IMAGENET_MEAN, IMAGENET_STD\n",
    "    transform = T.Compose([\n",
    "        T.Lambda(lambda img: img.convert('RGB') if img.mode != 'RGB' else img),\n",
    "        T.Resize((input_size, input_size), interpolation=InterpolationMode.BICUBIC),\n",
    "        T.ToTensor(),\n",
    "        T.Normalize(mean=MEAN, std=STD)\n",
    "    ])\n",
    "    return transform\n",
    "\n",
    "def find_closest_aspect_ratio(aspect_ratio, target_ratios, width, height, image_size):\n",
    "    best_ratio_diff = float('inf')\n",
    "    best_ratio = (1, 1)\n",
    "    area = width * height\n",
    "    for ratio in target_ratios:\n",
    "        target_aspect_ratio = ratio[0] / ratio[1]\n",
    "        ratio_diff = abs(aspect_ratio - target_aspect_ratio)\n",
    "        if ratio_diff < best_ratio_diff:\n",
    "            best_ratio_diff = ratio_diff\n",
    "            best_ratio = ratio\n",
    "        elif ratio_diff == best_ratio_diff:\n",
    "            if area > 0.5 * image_size * image_size * ratio[0] * ratio[1]:\n",
    "                best_ratio = ratio\n",
    "    return best_ratio\n",
    "\n",
    "def dynamic_preprocess(image, min_num=1, max_num=12, image_size=448, use_thumbnail=False):\n",
    "    orig_width, orig_height = image.size\n",
    "    aspect_ratio = orig_width / orig_height\n",
    "\n",
    "    target_ratios = set(\n",
    "        (i, j) for n in range(min_num, max_num + 1) for i in range(1, n + 1) for j in range(1, n + 1) if\n",
    "        i * j <= max_num and i * j >= min_num)\n",
    "    target_ratios = sorted(target_ratios, key=lambda x: x[0] * x[1])\n",
    "\n",
    "    target_aspect_ratio = find_closest_aspect_ratio(\n",
    "        aspect_ratio, target_ratios, orig_width, orig_height, image_size)\n",
    "\n",
    "    target_width = image_size * target_aspect_ratio[0]\n",
    "    target_height = image_size * target_aspect_ratio[1]\n",
    "    blocks = target_aspect_ratio[0] * target_aspect_ratio[1]\n",
    "\n",
    "    resized_img = image.resize((target_width, target_height))\n",
    "    processed_images = []\n",
    "    for i in range(blocks):\n",
    "        box = (\n",
    "            (i % (target_width // image_size)) * image_size,\n",
    "            (i // (target_width // image_size)) * image_size,\n",
    "            ((i % (target_width // image_size)) + 1) * image_size,\n",
    "            ((i // (target_width // image_size)) + 1) * image_size\n",
    "        )\n",
    "        split_img = resized_img.crop(box)\n",
    "        processed_images.append(split_img)\n",
    "    assert len(processed_images) == blocks\n",
    "    if use_thumbnail and len(processed_images) != 1:\n",
    "        thumbnail_img = image.resize((image_size, image_size))\n",
    "        processed_images.append(thumbnail_img)\n",
    "    return processed_images\n",
    "\n",
    "def load_image(image_file, input_size=448, max_num=12):\n",
    "    image = Image.open(image_file).convert('RGB')\n",
    "    transform = build_transform(input_size=input_size)\n",
    "    images = dynamic_preprocess(image, image_size=input_size, use_thumbnail=True, max_num=max_num)\n",
    "    pixel_values = [transform(image) for image in images]\n",
    "    pixel_values = torch.stack(pixel_values)\n",
    "    return pixel_values\n"
   ]
  },
  {
   "cell_type": "code",
   "execution_count": 30,
   "metadata": {},
   "outputs": [
    {
     "name": "stdout",
     "output_type": "stream",
     "text": [
      "Assistant: Here is the output for the bounding boxes of the defects found in the thermal image:\n",
      "\n",
      "(250, 200, 280, 220)\n"
     ]
    }
   ],
   "source": [
    "pixel_values = load_image(save_path, max_num=1).to(torch.bfloat16).cuda()\n",
    "generation_config = dict(max_new_tokens=256, do_sample=True)\n",
    "\n",
    "question = \"\"\"<image>\n",
    "Detect all defects in this thermal image.\n",
    "Return ONLY bounding boxes in the format:\n",
    "(x1,y1,x2,y2)\n",
    "\n",
    "Rules:\n",
    "- Coordinates must be in the 448x448 image space.\n",
    "- Integers only; x2 > x1, y2 > y1.\n",
    "- One line per defect.\n",
    "- If there are NO defects, output exactly:\n",
    "(0,0,0,0)\n",
    "- Do NOT output (0,0,0,0) if there is at least one valid defect.\n",
    "\"\"\"\n",
    "\n",
    "response = model.chat(tokenizer, pixel_values, question, generation_config)\n",
    "print(f'Assistant: {response}')"
   ]
  },
  {
   "cell_type": "code",
   "execution_count": 31,
   "metadata": {},
   "outputs": [
    {
     "data": {
      "image/png": "[encoded data removed]",
      "text/plain": [
       "<PIL.Image.Image image mode=RGB size=395x345>"
      ]
     },
     "metadata": {},
     "output_type": "display_data"
    }
   ],
   "source": [
    "import json\n",
    "import re\n",
    "from PIL import ImageDraw, ImageFont\n",
    "import matplotlib.pyplot as plt\n",
    "import cv2\n",
    "\n",
    "boxes = re.findall(r\"\\((\\d+),\\s*(\\d+),\\s*(\\d+),\\s*(\\d+)\\)\", response)\n",
    "boxes = [(int(x1), int(y1), int(x2), int(y2)) for x1, y1, x2, y2 in boxes]\n",
    "\n",
    "img = Image.open(save_path).convert(\"RGB\")\n",
    "draw = ImageDraw.Draw(img)\n",
    "\n",
    "for (x1, y1, x2, y2) in boxes:\n",
    "    if (x1, y1, x2, y2) != (0, 0, 0, 0):\n",
    "        draw.rectangle([x1, y1, x2, y2], outline=\"red\", width=3)\n",
    "\n",
    "img.show()"
   ]
  }
 ],
 "metadata": {
  "accelerator": "GPU",
  "colab": {
   "authorship_tag": "ABX9TyMyeARfDowi0NYlxKgcv80V",
   "gpuType": "A100",
   "machine_shape": "hm",
   "provenance": []
  },
  "kernelspec": {
   "display_name": "florence",
   "language": "python",
   "name": "python3"
  },
  "language_info": {
   "codemirror_mode": {
    "name": "ipython",
    "version": 3
   },
   "file_extension": ".py",
   "mimetype": "text/x-python",
   "name": "python",
   "nbconvert_exporter": "python",
   "pygments_lexer": "ipython3",
   "version": "3.10.18"
  },
  "widgets": {
   "application/vnd.jupyter.widget-state+json": {
    "1a4998cf1184468abd0cb5dab9dbd10a": {
     "model_module": "@jupyter-widgets/base",
     "model_module_version": "1.2.0",
     "model_name": "LayoutModel",
     "state": {
      "_model_module": "@jupyter-widgets/base",
      "_model_module_version": "1.2.0",
      "_model_name": "LayoutModel",
      "_view_count": null,
      "_view_module": "@jupyter-widgets/base",
      "_view_module_version": "1.2.0",
      "_view_name": "LayoutView",
      "align_content": null,
      "align_items": null,
      "align_self": null,
      "border": null,
      "bottom": null,
      "display": null,
      "flex": null,
      "flex_flow": null,
      "grid_area": null,
      "grid_auto_columns": null,
      "grid_auto_flow": null,
      "grid_auto_rows": null,
      "grid_column": null,
      "grid_gap": null,
      "grid_row": null,
      "grid_template_areas": null,
      "grid_template_columns": null,
      "grid_template_rows": null,
      "height": null,
      "justify_content": null,
      "justify_items": null,
      "left": null,
      "margin": null,
      "max_height": null,
      "max_width": null,
      "min_height": null,
      "min_width": null,
      "object_fit": null,
      "object_position": null,
      "order": null,
      "overflow": null,
      "overflow_x": null,
      "overflow_y": null,
      "padding": null,
      "right": null,
      "top": null,
      "visibility": null,
      "width": null
     }
    },
    "58ff5a8e408942dcb0c1e430ff0f8511": {
     "model_module": "@jupyter-widgets/controls",
     "model_module_version": "1.5.0",
     "model_name": "HTMLModel",
     "state": {
      "_dom_classes": [],
      "_model_module": "@jupyter-widgets/controls",
      "_model_module_version": "1.5.0",
      "_model_name": "HTMLModel",
      "_view_count": null,
      "_view_module": "@jupyter-widgets/controls",
      "_view_module_version": "1.5.0",
      "_view_name": "HTMLView",
      "description": "",
      "description_tooltip": null,
      "layout": "IPY_MODEL_e24fe245ef1f445f8f56b66877b82d98",
      "placeholder": "​",
      "style": "IPY_MODEL_9ba080f34feb4277831c06b49a584889",
      "value": "Loading checkpoint shards: 100%"
     }
    },
    "892e2aa07c2a48f1b31ed4735c38eb3e": {
     "model_module": "@jupyter-widgets/controls",
     "model_module_version": "1.5.0",
     "model_name": "HBoxModel",
     "state": {
      "_dom_classes": [],
      "_model_module": "@jupyter-widgets/controls",
      "_model_module_version": "1.5.0",
      "_model_name": "HBoxModel",
      "_view_count": null,
      "_view_module": "@jupyter-widgets/controls",
      "_view_module_version": "1.5.0",
      "_view_name": "HBoxView",
      "box_style": "",
      "children": [
       "IPY_MODEL_58ff5a8e408942dcb0c1e430ff0f8511",
       "IPY_MODEL_eabb5acc0ca94061b6e226e6bf86f732",
       "IPY_MODEL_e50d0e0a63ac421e8af2e9d2719ba081"
      ],
      "layout": "IPY_MODEL_95d906d46a02434b89ef8335650d4756"
     }
    },
    "95d906d46a02434b89ef8335650d4756": {
     "model_module": "@jupyter-widgets/base",
     "model_module_version": "1.2.0",
     "model_name": "LayoutModel",
     "state": {
      "_model_module": "@jupyter-widgets/base",
      "_model_module_version": "1.2.0",
      "_model_name": "LayoutModel",
      "_view_count": null,
      "_view_module": "@jupyter-widgets/base",
      "_view_module_version": "1.2.0",
      "_view_name": "LayoutView",
      "align_content": null,
      "align_items": null,
      "align_self": null,
      "border": null,
      "bottom": null,
      "display": null,
      "flex": null,
      "flex_flow": null,
      "grid_area": null,
      "grid_auto_columns": null,
      "grid_auto_flow": null,
      "grid_auto_rows": null,
      "grid_column": null,
      "grid_gap": null,
      "grid_row": null,
      "grid_template_areas": null,
      "grid_template_columns": null,
      "grid_template_rows": null,
      "height": null,
      "justify_content": null,
      "justify_items": null,
      "left": null,
      "margin": null,
      "max_height": null,
      "max_width": null,
      "min_height": null,
      "min_width": null,
      "object_fit": null,
      "object_position": null,
      "order": null,
      "overflow": null,
      "overflow_x": null,
      "overflow_y": null,
      "padding": null,
      "right": null,
      "top": null,
      "visibility": null,
      "width": null
     }
    },
    "985d9ad3a23a4d2e9f233fab6f9c9cb2": {
     "model_module": "@jupyter-widgets/controls",
     "model_module_version": "1.5.0",
     "model_name": "DescriptionStyleModel",
     "state": {
      "_model_module": "@jupyter-widgets/controls",
      "_model_module_version": "1.5.0",
      "_model_name": "DescriptionStyleModel",
      "_view_count": null,
      "_view_module": "@jupyter-widgets/base",
      "_view_module_version": "1.2.0",
      "_view_name": "StyleView",
      "description_width": ""
     }
    },
    "9ba080f34feb4277831c06b49a584889": {
     "model_module": "@jupyter-widgets/controls",
     "model_module_version": "1.5.0",
     "model_name": "DescriptionStyleModel",
     "state": {
      "_model_module": "@jupyter-widgets/controls",
      "_model_module_version": "1.5.0",
      "_model_name": "DescriptionStyleModel",
      "_view_count": null,
      "_view_module": "@jupyter-widgets/base",
      "_view_module_version": "1.2.0",
      "_view_name": "StyleView",
      "description_width": ""
     }
    },
    "cd59d9fd91c6446fb0203f0cd0574c02": {
     "model_module": "@jupyter-widgets/base",
     "model_module_version": "1.2.0",
     "model_name": "LayoutModel",
     "state": {
      "_model_module": "@jupyter-widgets/base",
      "_model_module_version": "1.2.0",
      "_model_name": "LayoutModel",
      "_view_count": null,
      "_view_module": "@jupyter-widgets/base",
      "_view_module_version": "1.2.0",
      "_view_name": "LayoutView",
      "align_content": null,
      "align_items": null,
      "align_self": null,
      "border": null,
      "bottom": null,
      "display": null,
      "flex": null,
      "flex_flow": null,
      "grid_area": null,
      "grid_auto_columns": null,
      "grid_auto_flow": null,
      "grid_auto_rows": null,
      "grid_column": null,
      "grid_gap": null,
      "grid_row": null,
      "grid_template_areas": null,
      "grid_template_columns": null,
      "grid_template_rows": null,
      "height": null,
      "justify_content": null,
      "justify_items": null,
      "left": null,
      "margin": null,
      "max_height": null,
      "max_width": null,
      "min_height": null,
      "min_width": null,
      "object_fit": null,
      "object_position": null,
      "order": null,
      "overflow": null,
      "overflow_x": null,
      "overflow_y": null,
      "padding": null,
      "right": null,
      "top": null,
      "visibility": null,
      "width": null
     }
    },
    "e24fe245ef1f445f8f56b66877b82d98": {
     "model_module": "@jupyter-widgets/base",
     "model_module_version": "1.2.0",
     "model_name": "LayoutModel",
     "state": {
      "_model_module": "@jupyter-widgets/base",
      "_model_module_version": "1.2.0",
      "_model_name": "LayoutModel",
      "_view_count": null,
      "_view_module": "@jupyter-widgets/base",
      "_view_module_version": "1.2.0",
      "_view_name": "LayoutView",
      "align_content": null,
      "align_items": null,
      "align_self": null,
      "border": null,
      "bottom": null,
      "display": null,
      "flex": null,
      "flex_flow": null,
      "grid_area": null,
      "grid_auto_columns": null,
      "grid_auto_flow": null,
      "grid_auto_rows": null,
      "grid_column": null,
      "grid_gap": null,
      "grid_row": null,
      "grid_template_areas": null,
      "grid_template_columns": null,
      "grid_template_rows": null,
      "height": null,
      "justify_content": null,
      "justify_items": null,
      "left": null,
      "margin": null,
      "max_height": null,
      "max_width": null,
      "min_height": null,
      "min_width": null,
      "object_fit": null,
      "object_position": null,
      "order": null,
      "overflow": null,
      "overflow_x": null,
      "overflow_y": null,
      "padding": null,
      "right": null,
      "top": null,
      "visibility": null,
      "width": null
     }
    },
    "e50d0e0a63ac421e8af2e9d2719ba081": {
     "model_module": "@jupyter-widgets/controls",
     "model_module_version": "1.5.0",
     "model_name": "HTMLModel",
     "state": {
      "_dom_classes": [],
      "_model_module": "@jupyter-widgets/controls",
      "_model_module_version": "1.5.0",
      "_model_name": "HTMLModel",
      "_view_count": null,
      "_view_module": "@jupyter-widgets/controls",
      "_view_module_version": "1.5.0",
      "_view_name": "HTMLView",
      "description": "",
      "description_tooltip": null,
      "layout": "IPY_MODEL_1a4998cf1184468abd0cb5dab9dbd10a",
      "placeholder": "​",
      "style": "IPY_MODEL_985d9ad3a23a4d2e9f233fab6f9c9cb2",
      "value": " 8/8 [01:33&lt;00:00,  9.43s/it]"
     }
    },
    "eabb5acc0ca94061b6e226e6bf86f732": {
     "model_module": "@jupyter-widgets/controls",
     "model_module_version": "1.5.0",
     "model_name": "FloatProgressModel",
     "state": {
      "_dom_classes": [],
      "_model_module": "@jupyter-widgets/controls",
      "_model_module_version": "1.5.0",
      "_model_name": "FloatProgressModel",
      "_view_count": null,
      "_view_module": "@jupyter-widgets/controls",
      "_view_module_version": "1.5.0",
      "_view_name": "ProgressView",
      "bar_style": "success",
      "description": "",
      "description_tooltip": null,
      "layout": "IPY_MODEL_cd59d9fd91c6446fb0203f0cd0574c02",
      "max": 8,
      "min": 0,
      "orientation": "horizontal",
      "style": "IPY_MODEL_f0f8b97a96ea4dfb97de8c437818f34f",
      "value": 8
     }
    },
    "f0f8b97a96ea4dfb97de8c437818f34f": {
     "model_module": "@jupyter-widgets/controls",
     "model_module_version": "1.5.0",
     "model_name": "ProgressStyleModel",
     "state": {
      "_model_module": "@jupyter-widgets/controls",
      "_model_module_version": "1.5.0",
      "_model_name": "ProgressStyleModel",
      "_view_count": null,
      "_view_module": "@jupyter-widgets/base",
      "_view_module_version": "1.2.0",
      "_view_name": "StyleView",
      "bar_color": null,
      "description_width": ""
     }
    }
   }
  }
 },
 "nbformat": 4,
 "nbformat_minor": 0
}
