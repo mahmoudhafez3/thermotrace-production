{
 "cells": [
  {
   "cell_type": "code",
   "execution_count": null,
   "metadata": {
    "colab": {
     "base_uri": "https://localhost:8080/"
    },
    "executionInfo": {
     "elapsed": 86309,
     "status": "ok",
     "timestamp": 1754172707286,
     "user": {
      "displayName": "Mohammed Salah",
      "userId": "03653887815283402319"
     },
     "user_tz": -240
    },
    "id": "03A6HUOhqhU4",
    "outputId": "aa5b675d-ef9d-4f64-d878-8b3515a997f0"
   },
   "outputs": [],
   "source": [
    "from transformers import AutoProcessor, AutoModelForCausalLM\n",
    "from PIL import Image\n",
    "import torch"
   ]
  },
  {
   "cell_type": "code",
   "execution_count": null,
   "metadata": {
    "colab": {
     "base_uri": "https://localhost:8080/",
     "height": 383
    },
    "executionInfo": {
     "elapsed": 101,
     "status": "error",
     "timestamp": 1754203653680,
     "user": {
      "displayName": "Mohammed Salah",
      "userId": "03653887815283402319"
     },
     "user_tz": -240
    },
    "id": "NXAtP-0otXvb",
    "outputId": "ee4e881d-9b3e-44d7-c2e8-e0c13be0d81c"
   },
   "outputs": [],
   "source": [
    "import numpy as np\n",
    "import cv2\n",
    "import mat73\n",
    "import numpy as np\n",
    "import cv2\n",
    "import os\n",
    "import scipy.io\n",
    "import torch\n",
    "import torch.nn as nn\n",
    "import torch.optim as optim\n",
    "from torch.utils.data import DataLoader, TensorDataset\n",
    "import matplotlib.pyplot as plt\n",
    "from sklearn.manifold import TSNE\n",
    "from matplotlib.widgets import RectangleSelector\n",
    "import math"
   ]
  },
  {
   "cell_type": "code",
   "execution_count": null,
   "metadata": {
    "executionInfo": {
     "elapsed": 340,
     "status": "aborted",
     "timestamp": 1754203653703,
     "user": {
      "displayName": "Mohammed Salah",
      "userId": "03653887815283402319"
     },
     "user_tz": -240
    },
    "id": "lKYY5EXCs5hf"
   },
   "outputs": [],
   "source": [
    "np.random.seed(42)\n",
    "\n",
    "folder_dir = 'data_np/'\n",
    "\n",
    "mat_files = sorted([file for file in os.listdir(folder_dir) if file.endswith('.npy')])\n",
    "idx = 4\n",
    "\n",
    "print(mat_files[idx])"
   ]
  },
  {
   "cell_type": "code",
   "execution_count": null,
   "metadata": {
    "executionInfo": {
     "elapsed": 345,
     "status": "aborted",
     "timestamp": 1754203653709,
     "user": {
      "displayName": "Mohammed Salah",
      "userId": "03653887815283402319"
     },
     "user_tz": -240
    },
    "id": "9_-n0HgysnbB"
   },
   "outputs": [],
   "source": [
    "image_sequence = np.load(folder_dir + mat_files[idx])\n",
    "image_sequence = image_sequence[135:, :, :]\n",
    "roi_coords = []"
   ]
  },
  {
   "cell_type": "code",
   "execution_count": null,
   "metadata": {
    "executionInfo": {
     "elapsed": 347,
     "status": "aborted",
     "timestamp": 1754203653718,
     "user": {
      "displayName": "Mohammed Salah",
      "userId": "03653887815283402319"
     },
     "user_tz": -240
    },
    "id": "b6W2KeAKHnfo"
   },
   "outputs": [],
   "source": [
    "# y1, y2, x1, x2 = 68, 320, 160, 423\n",
    "# image_sequence = image_sequence[y1:y2, x1:x2, :]\n",
    "\n",
    "image_sequence = image_sequence[:, 105:495, :]\n",
    "\n",
    "h, w, t = image_sequence.shape\n",
    "middle_frame = image_sequence[:, :, t // 2]\n",
    "plt.figure(figsize=(6, 6))\n",
    "plt.imshow(middle_frame, cmap='jet')\n",
    "plt.title('Middle Frame of ROI')\n",
    "plt.axis('off')\n",
    "plt.colorbar()\n",
    "plt.show()"
   ]
  },
  {
   "cell_type": "code",
   "execution_count": null,
   "metadata": {
    "colab": {
     "base_uri": "https://localhost:8080/",
     "height": 324
    },
    "executionInfo": {
     "elapsed": 10486,
     "status": "ok",
     "timestamp": 1754174082224,
     "user": {
      "displayName": "Mohammed Salah",
      "userId": "03653887815283402319"
     },
     "user_tz": -240
    },
    "id": "qyOC_QjVCTUs",
    "outputId": "3c7f889b-02e6-4c8e-c0ff-66cae12bb9f3"
   },
   "outputs": [],
   "source": [
    "h, w, sequence_size = image_sequence.shape\n",
    "plt.figure(figsize=(6, 3))\n",
    "plt.plot(image_sequence.reshape(h * w, sequence_size)[5000,173:300])\n",
    "plt.grid(True)\n",
    "plt.tight_layout()\n",
    "plt.show()\n",
    "\n",
    "diff = np.diff(image_sequence.reshape(h * w, sequence_size)[5000,:1000])\n",
    "t_pulse = np.argmax(diff)\n",
    "print(t_pulse)\n",
    "t_pulse = 134"
   ]
  },
  {
   "cell_type": "code",
   "execution_count": null,
   "metadata": {
    "colab": {
     "base_uri": "https://localhost:8080/",
     "height": 306
    },
    "executionInfo": {
     "elapsed": 9218,
     "status": "ok",
     "timestamp": 1754174091446,
     "user": {
      "displayName": "Mohammed Salah",
      "userId": "03653887815283402319"
     },
     "user_tz": -240
    },
    "id": "39ZH-o-jCVe9",
    "outputId": "486ba29d-7780-4ff0-9e09-a9337c0351bd"
   },
   "outputs": [],
   "source": [
    "from scipy.interpolate import interp1d\n",
    "import numpy as np\n",
    "import matplotlib.pyplot as plt\n",
    "\n",
    "h, w, sequence_size = image_sequence.shape\n",
    "imageMatrix = image_sequence.reshape(h * w, sequence_size)\n",
    "imageMatrix = imageMatrix[:, t_pulse:]\n",
    "\n",
    "original_len = imageMatrix.shape[1]\n",
    "target_len = 2000\n",
    "\n",
    "x_old = np.linspace(0, 1, original_len)\n",
    "x_new = np.linspace(0, 1, target_len)\n",
    "\n",
    "f = interp1d(x_old, imageMatrix, kind=\"linear\", axis=1)\n",
    "imageMatrix = f(x_new)\n",
    "\n",
    "plt.figure(figsize=(6, 3))\n",
    "plt.plot(imageMatrix[5000, :])\n",
    "plt.grid(True)\n",
    "plt.tight_layout()\n",
    "plt.show()\n",
    "\n",
    "imageMatrix = (imageMatrix - np.mean(imageMatrix, axis=1, keepdims=True))\n",
    "\n",
    "n_components = 10\n",
    "latent_dim = n_components"
   ]
  },
  {
   "cell_type": "code",
   "execution_count": null,
   "metadata": {},
   "outputs": [],
   "source": [
    "imageMatrix = imageMatrix - np.mean(imageMatrix, axis=1, keepdims=True)\n",
    "\n",
    "U, S, Vh = np.linalg.svd(imageMatrix, full_matrices=False)\n",
    "\n",
    "Vh = Vh[:n_components, :]\n",
    "\n",
    "principal_comp = np.matmul(imageMatrix, Vh.T)\n",
    "\n",
    "pca_array = principal_comp.reshape(h, w, n_components)\n",
    "pca_array = pca_array.transpose(2, 0, 1)"
   ]
  },
  {
   "cell_type": "code",
   "execution_count": null,
   "metadata": {
    "colab": {
     "base_uri": "https://localhost:8080/",
     "height": 1000,
     "output_embedded_package_id": "1xTRcOnMDqadu22Tz_hEk_nzE2RDLbRsS"
    },
    "executionInfo": {
     "elapsed": 1984,
     "status": "ok",
     "timestamp": 1754174161641,
     "user": {
      "displayName": "Mohammed Salah",
      "userId": "03653887815283402319"
     },
     "user_tz": -240
    },
    "id": "5gCa8O9XCeKW",
    "outputId": "0ad99547-f55a-496b-f80f-2497c96bf244"
   },
   "outputs": [],
   "source": [
    "fig, axes = plt.subplots(2, 5, figsize=(15, 6))\n",
    "\n",
    "for i, ax in enumerate(axes.flat):\n",
    "    ax.imshow(pca_array[i], cmap='gray')\n",
    "    ax.set_title(f'PC {i+1}')\n",
    "    ax.axis('off')\n",
    "\n",
    "plt.tight_layout()\n",
    "plt.show()\n",
    "\n",
    "fig, axes = plt.subplots(2, 5, figsize=(15, 6))\n",
    "\n",
    "for i, ax in enumerate(axes.flat):\n",
    "    ax.imshow(pca_array[i], cmap='jet')\n",
    "    ax.set_title(f'PC {i+1}')\n",
    "    ax.axis('off')\n",
    "\n",
    "plt.tight_layout()\n",
    "plt.show()"
   ]
  },
  {
   "cell_type": "code",
   "execution_count": null,
   "metadata": {
    "colab": {
     "base_uri": "https://localhost:8080/",
     "height": 329
    },
    "executionInfo": {
     "elapsed": 5,
     "status": "ok",
     "timestamp": 1754174161682,
     "user": {
      "displayName": "Mohammed Salah",
      "userId": "03653887815283402319"
     },
     "user_tz": -240
    },
    "id": "xlgNqNCPCfte",
    "outputId": "1cd97ba5-5ae2-42c5-cdac-42b762b4844b"
   },
   "outputs": [],
   "source": [
    "from sklearn.decomposition import PCA\n",
    "\n",
    "C, H, W = pca_array.shape\n",
    "\n",
    "flat = pca_array.reshape(C, -1).T\n",
    "pca = PCA(n_components=n_components)\n",
    "pca_result = pca.fit_transform(flat)\n",
    "\n",
    "explained_var_ratio = pca.explained_variance_ratio_\n",
    "\n",
    "pca_images = pca_result.T.reshape(n_components, H, W)\n",
    "\n",
    "eps = 1e-8\n",
    "\n",
    "combined = np.average(pca_images, axis=0, weights=explained_var_ratio)\n",
    "\n",
    "combined -= combined.min()\n",
    "combined /= (combined.max() + eps)\n",
    "combined = (combined * 255).astype(np.uint8)\n",
    "\n",
    "import cv2\n",
    "img_rgb = cv2.cvtColor(combined, cv2.COLOR_GRAY2RGB)\n",
    "\n",
    "import matplotlib.pyplot as plt\n",
    "plt.figure(figsize=(3, 3))\n",
    "plt.imshow(img_rgb)\n",
    "plt.axis('off')\n",
    "plt.show()"
   ]
  },
  {
   "cell_type": "code",
   "execution_count": null,
   "metadata": {
    "colab": {
     "base_uri": "https://localhost:8080/",
     "height": 535,
     "referenced_widgets": [
      "be4427373fa8473a95bf3421a7da8a76",
      "c271b2fa637349b7ac287b6fd3cf7921",
      "48b0a1ef62d747049a7bf329e0f4b5f1",
      "3747b2aa0088406fbbc97ec586617c8e",
      "f927dbaa01ac41bf9278ffe651f714bb",
      "05d3863152ed49618f3b98a74d015bcf",
      "118022748c79468cbdb366f7c9be127c",
      "d39a12379b3e4d0692f7ddced81bddb8",
      "338fa2b87cb64091ab230e8c5eb061a1",
      "8980f3103a684282adab060f26d5c107",
      "de52930a4bea48589e6193b825028552"
     ]
    },
    "executionInfo": {
     "elapsed": 16431,
     "status": "ok",
     "timestamp": 1754174178115,
     "user": {
      "displayName": "Mohammed Salah",
      "userId": "03653887815283402319"
     },
     "user_tz": -240
    },
    "id": "Nv1qsUyGGXyH",
    "outputId": "232c64bf-eaf1-49f6-8ba3-d8b1f55811dc"
   },
   "outputs": [],
   "source": [
    "import torch\n",
    "from qwen_vl_utils import process_vision_info\n",
    "from transformers import Qwen2_5_VLForConditionalGeneration, AutoTokenizer, AutoProcessor, AutoModelForCausalLM\n",
    "\n",
    "model = Qwen2_5_VLForConditionalGeneration.from_pretrained(\n",
    "    \"Qwen/Qwen2.5-VL-7B-Instruct\", torch_dtype=\"auto\", device_map=\"auto\"\n",
    ")\n",
    "\n",
    "processor = AutoProcessor.from_pretrained(\"Qwen/Qwen2.5-VL-7B-Instruct\")"
   ]
  },
  {
   "cell_type": "code",
   "execution_count": null,
   "metadata": {
    "id": "Rd3-bPWSG3L8"
   },
   "outputs": [],
   "source": [
    "from PIL import Image, ImageDraw\n",
    "\n",
    "image = Image.fromarray(img_rgb).convert(\"RGB\")\n",
    "image = image.resize((1000, 1000))\n",
    "W, H = image.size\n",
    "\n",
    "save_path = \"temp_image.jpg\" \n",
    "image.save(save_path)"
   ]
  },
  {
   "cell_type": "code",
   "execution_count": null,
   "metadata": {
    "id": "IPF1DvCAKRho"
   },
   "outputs": [],
   "source": [
    "messages = [\n",
    "    {\n",
    "        \"role\": \"system\",\n",
    "        \"content\": (\n",
    "            \"You are an expert NDT thermography inspection assistant.\\n\"\n",
    "            \"Your task is to detect subsurface defects in thermal images and return their exact bbox.\\n\"\n",
    "            \"Strict output rules:\\n\"\n",
    "            \"1) Output a JSON list of objects in this format: [{\\\"label\\\": \\\"defect\\\", \\\"box\\\": [x1, y1, x2, y2]}].\"\n",
    "            \"2) Coordinates must be integers. (x1, y1) is top-left, (x2, y2) is bottom-right, and x2 > x1, y2 > y1.\\n\"\n",
    "            \"3) The input image has been resized to 1000×1000 pixels. All bounding boxes must be based on this resolution.\\n\"\n",
    "            \"4) Make sure the boxes are tight and correct.\\n\"\n",
    "            \"5) If multiple defects are present, return each on a new line in the same JSON format.\\n\"\n",
    "            \"6) If no defect is found, return exactly: [{\\\"label\\\": \\\"none\\\", \\\"box\\\": [0, 0, 0, 0]}]\\n\"\n",
    "            \"7) Do not include any explanation or extra text. Return only valid JSON.\\n\"\n",
    "        )\n",
    "    },\n",
    "    {\n",
    "        \"role\": \"user\",\n",
    "        \"content\": [\n",
    "            {\"type\": \"image\", \"image\": f\"file://{save_path}\"},\n",
    "            {\"type\": \"text\", \"text\": \"Inspect the thermal image for defects. Return only the required format.\"}\n",
    "        ]\n",
    "    }\n",
    "]"
   ]
  },
  {
   "cell_type": "code",
   "execution_count": null,
   "metadata": {
    "id": "olpOzdrtKUh4"
   },
   "outputs": [],
   "source": [
    "text = processor.apply_chat_template(\n",
    "    messages, tokenize=False, add_generation_prompt=True\n",
    ")\n",
    "image_inputs, video_inputs = process_vision_info(messages)\n",
    "inputs = processor(\n",
    "    text=[text],\n",
    "    images=image_inputs,\n",
    "    padding=True,\n",
    "    return_tensors=\"pt\",\n",
    ")\n",
    "inputs = inputs.to(\"cuda\")"
   ]
  },
  {
   "cell_type": "code",
   "execution_count": null,
   "metadata": {
    "colab": {
     "base_uri": "https://localhost:8080/"
    },
    "executionInfo": {
     "elapsed": 2146,
     "status": "ok",
     "timestamp": 1754174180348,
     "user": {
      "displayName": "Mohammed Salah",
      "userId": "03653887815283402319"
     },
     "user_tz": -240
    },
    "id": "g4akZjpDBcTJ",
    "outputId": "2802388e-b28b-4020-955a-e169deb5d3c4"
   },
   "outputs": [],
   "source": [
    "generated_ids = model.generate(**inputs, max_new_tokens=512)\n",
    "generated_ids_trimmed = [\n",
    "    out_ids[len(in_ids) :] for in_ids, out_ids in zip(inputs.input_ids, generated_ids)\n",
    "]\n",
    "output_text = processor.batch_decode(\n",
    "    generated_ids_trimmed, skip_special_tokens=True, clean_up_tokenization_spaces=False\n",
    ")\n",
    "print(output_text)"
   ]
  },
  {
   "cell_type": "code",
   "execution_count": null,
   "metadata": {
    "colab": {
     "base_uri": "https://localhost:8080/",
     "height": 499
    },
    "executionInfo": {
     "elapsed": 150,
     "status": "ok",
     "timestamp": 1754174180500,
     "user": {
      "displayName": "Mohammed Salah",
      "userId": "03653887815283402319"
     },
     "user_tz": -240
    },
    "id": "xFcX5CvpBm8V",
    "outputId": "4d94734d-5631-4112-fe98-376f24d876ec"
   },
   "outputs": [],
   "source": [
    "import json\n",
    "import re\n",
    "from PIL import ImageDraw, ImageFont\n",
    "import matplotlib.pyplot as plt\n",
    "\n",
    "raw = output_text[0]\n",
    "cleaned = re.sub(r\"```json|```\", \"\", raw).strip()\n",
    "boxes = json.loads(cleaned)\n",
    "\n",
    "w, h = image.size\n",
    "scale_x = w / 1000.0\n",
    "scale_y = h / 1000.0\n",
    "\n",
    "draw = ImageDraw.Draw(image)\n",
    "\n",
    "for item in boxes:\n",
    "    label = item[\"label\"]\n",
    "    x1, y1, x2, y2 = item[\"box\"]\n",
    "    x1 = int(x1 * scale_x)\n",
    "    x2 = int(x2 * scale_x)\n",
    "    y1 = int(y1 * scale_y)\n",
    "    y2 = int(y2 * scale_y)\n",
    "\n",
    "    draw.rectangle([(x1, y1), (x2, y2)], outline=\"lime\", width=4)\n",
    "    try:\n",
    "        font = ImageFont.truetype(\"arial.ttf\", 16)\n",
    "    except:\n",
    "        font = ImageFont.load_default()\n",
    "    draw.text((x1 + 5, max(0, y1 - 20)), label, fill=\"lime\", font=font)\n",
    "\n",
    "plt.figure(figsize=(3, 3))\n",
    "plt.imshow(image)\n",
    "plt.axis(\"off\")\n",
    "plt.show()"
   ]
  }
 ],
 "metadata": {
  "accelerator": "GPU",
  "colab": {
   "authorship_tag": "ABX9TyM4nhDl4+o0sjVlfmN2ArFY",
   "gpuType": "A100",
   "machine_shape": "hm",
   "provenance": []
  },
  "kernelspec": {
   "display_name": "qwen",
   "language": "python",
   "name": "python3"
  },
  "language_info": {
   "codemirror_mode": {
    "name": "ipython",
    "version": 3
   },
   "file_extension": ".py",
   "mimetype": "text/x-python",
   "name": "python",
   "nbconvert_exporter": "python",
   "pygments_lexer": "ipython3",
   "version": "3.10.18"
  },
  "widgets": {
   "application/vnd.jupyter.widget-state+json": {
    "05d3863152ed49618f3b98a74d015bcf": {
     "model_module": "@jupyter-widgets/base",
     "model_module_version": "1.2.0",
     "model_name": "LayoutModel",
     "state": {
      "_model_module": "@jupyter-widgets/base",
      "_model_module_version": "1.2.0",
      "_model_name": "LayoutModel",
      "_view_count": null,
      "_view_module": "@jupyter-widgets/base",
      "_view_module_version": "1.2.0",
      "_view_name": "LayoutView",
      "align_content": null,
      "align_items": null,
      "align_self": null,
      "border": null,
      "bottom": null,
      "display": null,
      "flex": null,
      "flex_flow": null,
      "grid_area": null,
      "grid_auto_columns": null,
      "grid_auto_flow": null,
      "grid_auto_rows": null,
      "grid_column": null,
      "grid_gap": null,
      "grid_row": null,
      "grid_template_areas": null,
      "grid_template_columns": null,
      "grid_template_rows": null,
      "height": null,
      "justify_content": null,
      "justify_items": null,
      "left": null,
      "margin": null,
      "max_height": null,
      "max_width": null,
      "min_height": null,
      "min_width": null,
      "object_fit": null,
      "object_position": null,
      "order": null,
      "overflow": null,
      "overflow_x": null,
      "overflow_y": null,
      "padding": null,
      "right": null,
      "top": null,
      "visibility": null,
      "width": null
     }
    },
    "118022748c79468cbdb366f7c9be127c": {
     "model_module": "@jupyter-widgets/controls",
     "model_module_version": "1.5.0",
     "model_name": "DescriptionStyleModel",
     "state": {
      "_model_module": "@jupyter-widgets/controls",
      "_model_module_version": "1.5.0",
      "_model_name": "DescriptionStyleModel",
      "_view_count": null,
      "_view_module": "@jupyter-widgets/base",
      "_view_module_version": "1.2.0",
      "_view_name": "StyleView",
      "description_width": ""
     }
    },
    "338fa2b87cb64091ab230e8c5eb061a1": {
     "model_module": "@jupyter-widgets/controls",
     "model_module_version": "1.5.0",
     "model_name": "ProgressStyleModel",
     "state": {
      "_model_module": "@jupyter-widgets/controls",
      "_model_module_version": "1.5.0",
      "_model_name": "ProgressStyleModel",
      "_view_count": null,
      "_view_module": "@jupyter-widgets/base",
      "_view_module_version": "1.2.0",
      "_view_name": "StyleView",
      "bar_color": null,
      "description_width": ""
     }
    },
    "3747b2aa0088406fbbc97ec586617c8e": {
     "model_module": "@jupyter-widgets/controls",
     "model_module_version": "1.5.0",
     "model_name": "HTMLModel",
     "state": {
      "_dom_classes": [],
      "_model_module": "@jupyter-widgets/controls",
      "_model_module_version": "1.5.0",
      "_model_name": "HTMLModel",
      "_view_count": null,
      "_view_module": "@jupyter-widgets/controls",
      "_view_module_version": "1.5.0",
      "_view_name": "HTMLView",
      "description": "",
      "description_tooltip": null,
      "layout": "IPY_MODEL_8980f3103a684282adab060f26d5c107",
      "placeholder": "​",
      "style": "IPY_MODEL_de52930a4bea48589e6193b825028552",
      "value": " 5/5 [00:05&lt;00:00,  1.18it/s]"
     }
    },
    "48b0a1ef62d747049a7bf329e0f4b5f1": {
     "model_module": "@jupyter-widgets/controls",
     "model_module_version": "1.5.0",
     "model_name": "FloatProgressModel",
     "state": {
      "_dom_classes": [],
      "_model_module": "@jupyter-widgets/controls",
      "_model_module_version": "1.5.0",
      "_model_name": "FloatProgressModel",
      "_view_count": null,
      "_view_module": "@jupyter-widgets/controls",
      "_view_module_version": "1.5.0",
      "_view_name": "ProgressView",
      "bar_style": "success",
      "description": "",
      "description_tooltip": null,
      "layout": "IPY_MODEL_d39a12379b3e4d0692f7ddced81bddb8",
      "max": 5,
      "min": 0,
      "orientation": "horizontal",
      "style": "IPY_MODEL_338fa2b87cb64091ab230e8c5eb061a1",
      "value": 5
     }
    },
    "8980f3103a684282adab060f26d5c107": {
     "model_module": "@jupyter-widgets/base",
     "model_module_version": "1.2.0",
     "model_name": "LayoutModel",
     "state": {
      "_model_module": "@jupyter-widgets/base",
      "_model_module_version": "1.2.0",
      "_model_name": "LayoutModel",
      "_view_count": null,
      "_view_module": "@jupyter-widgets/base",
      "_view_module_version": "1.2.0",
      "_view_name": "LayoutView",
      "align_content": null,
      "align_items": null,
      "align_self": null,
      "border": null,
      "bottom": null,
      "display": null,
      "flex": null,
      "flex_flow": null,
      "grid_area": null,
      "grid_auto_columns": null,
      "grid_auto_flow": null,
      "grid_auto_rows": null,
      "grid_column": null,
      "grid_gap": null,
      "grid_row": null,
      "grid_template_areas": null,
      "grid_template_columns": null,
      "grid_template_rows": null,
      "height": null,
      "justify_content": null,
      "justify_items": null,
      "left": null,
      "margin": null,
      "max_height": null,
      "max_width": null,
      "min_height": null,
      "min_width": null,
      "object_fit": null,
      "object_position": null,
      "order": null,
      "overflow": null,
      "overflow_x": null,
      "overflow_y": null,
      "padding": null,
      "right": null,
      "top": null,
      "visibility": null,
      "width": null
     }
    },
    "be4427373fa8473a95bf3421a7da8a76": {
     "model_module": "@jupyter-widgets/controls",
     "model_module_version": "1.5.0",
     "model_name": "HBoxModel",
     "state": {
      "_dom_classes": [],
      "_model_module": "@jupyter-widgets/controls",
      "_model_module_version": "1.5.0",
      "_model_name": "HBoxModel",
      "_view_count": null,
      "_view_module": "@jupyter-widgets/controls",
      "_view_module_version": "1.5.0",
      "_view_name": "HBoxView",
      "box_style": "",
      "children": [
       "IPY_MODEL_c271b2fa637349b7ac287b6fd3cf7921",
       "IPY_MODEL_48b0a1ef62d747049a7bf329e0f4b5f1",
       "IPY_MODEL_3747b2aa0088406fbbc97ec586617c8e"
      ],
      "layout": "IPY_MODEL_f927dbaa01ac41bf9278ffe651f714bb"
     }
    },
    "c271b2fa637349b7ac287b6fd3cf7921": {
     "model_module": "@jupyter-widgets/controls",
     "model_module_version": "1.5.0",
     "model_name": "HTMLModel",
     "state": {
      "_dom_classes": [],
      "_model_module": "@jupyter-widgets/controls",
      "_model_module_version": "1.5.0",
      "_model_name": "HTMLModel",
      "_view_count": null,
      "_view_module": "@jupyter-widgets/controls",
      "_view_module_version": "1.5.0",
      "_view_name": "HTMLView",
      "description": "",
      "description_tooltip": null,
      "layout": "IPY_MODEL_05d3863152ed49618f3b98a74d015bcf",
      "placeholder": "​",
      "style": "IPY_MODEL_118022748c79468cbdb366f7c9be127c",
      "value": "Loading checkpoint shards: 100%"
     }
    },
    "d39a12379b3e4d0692f7ddced81bddb8": {
     "model_module": "@jupyter-widgets/base",
     "model_module_version": "1.2.0",
     "model_name": "LayoutModel",
     "state": {
      "_model_module": "@jupyter-widgets/base",
      "_model_module_version": "1.2.0",
      "_model_name": "LayoutModel",
      "_view_count": null,
      "_view_module": "@jupyter-widgets/base",
      "_view_module_version": "1.2.0",
      "_view_name": "LayoutView",
      "align_content": null,
      "align_items": null,
      "align_self": null,
      "border": null,
      "bottom": null,
      "display": null,
      "flex": null,
      "flex_flow": null,
      "grid_area": null,
      "grid_auto_columns": null,
      "grid_auto_flow": null,
      "grid_auto_rows": null,
      "grid_column": null,
      "grid_gap": null,
      "grid_row": null,
      "grid_template_areas": null,
      "grid_template_columns": null,
      "grid_template_rows": null,
      "height": null,
      "justify_content": null,
      "justify_items": null,
      "left": null,
      "margin": null,
      "max_height": null,
      "max_width": null,
      "min_height": null,
      "min_width": null,
      "object_fit": null,
      "object_position": null,
      "order": null,
      "overflow": null,
      "overflow_x": null,
      "overflow_y": null,
      "padding": null,
      "right": null,
      "top": null,
      "visibility": null,
      "width": null
     }
    },
    "de52930a4bea48589e6193b825028552": {
     "model_module": "@jupyter-widgets/controls",
     "model_module_version": "1.5.0",
     "model_name": "DescriptionStyleModel",
     "state": {
      "_model_module": "@jupyter-widgets/controls",
      "_model_module_version": "1.5.0",
      "_model_name": "DescriptionStyleModel",
      "_view_count": null,
      "_view_module": "@jupyter-widgets/base",
      "_view_module_version": "1.2.0",
      "_view_name": "StyleView",
      "description_width": ""
     }
    },
    "f927dbaa01ac41bf9278ffe651f714bb": {
     "model_module": "@jupyter-widgets/base",
     "model_module_version": "1.2.0",
     "model_name": "LayoutModel",
     "state": {
      "_model_module": "@jupyter-widgets/base",
      "_model_module_version": "1.2.0",
      "_model_name": "LayoutModel",
      "_view_count": null,
      "_view_module": "@jupyter-widgets/base",
      "_view_module_version": "1.2.0",
      "_view_name": "LayoutView",
      "align_content": null,
      "align_items": null,
      "align_self": null,
      "border": null,
      "bottom": null,
      "display": null,
      "flex": null,
      "flex_flow": null,
      "grid_area": null,
      "grid_auto_columns": null,
      "grid_auto_flow": null,
      "grid_auto_rows": null,
      "grid_column": null,
      "grid_gap": null,
      "grid_row": null,
      "grid_template_areas": null,
      "grid_template_columns": null,
      "grid_template_rows": null,
      "height": null,
      "justify_content": null,
      "justify_items": null,
      "left": null,
      "margin": null,
      "max_height": null,
      "max_width": null,
      "min_height": null,
      "min_width": null,
      "object_fit": null,
      "object_position": null,
      "order": null,
      "overflow": null,
      "overflow_x": null,
      "overflow_y": null,
      "padding": null,
      "right": null,
      "top": null,
      "visibility": null,
      "width": null
     }
    }
   }
  }
 },
 "nbformat": 4,
 "nbformat_minor": 0
}
